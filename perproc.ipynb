{
 "cells": [
  {
   "cell_type": "code",
   "execution_count": 19,
   "metadata": {},
   "outputs": [
    {
     "name": "stdout",
     "output_type": "stream",
     "text": [
      "   rating                                              title  \\\n",
      "0     4.0  12 mg is 12 on the periodic table people! Mg f...   \n",
      "1     5.0                 Save the lanet using less plastic.   \n",
      "2     5.0                                          Fantastic   \n",
      "3     4.0  It holds the water and makes bubbles.  That's ...   \n",
      "4     1.0                                         Not for me   \n",
      "\n",
      "                                                text images        asin  \\\n",
      "0  This review is more to clarify someone else’s ...     []  B07TDSJZMR   \n",
      "1  Love these easy multitasking bleach tablets. B...     []  B08637FWWF   \n",
      "2  I have been suffering a couple months with hee...     []  B07KJVGNN5   \n",
      "3  It's cheap and it does what I wanted.  The \"ma...     []  B007HY7GC2   \n",
      "4  Didn't do a thing for me. Not saying they don'...     []  B08KYJLF5T   \n",
      "\n",
      "  parent_asin                       user_id      timestamp  helpful_vote  \\\n",
      "0  B07TDSJZMR  AFKZENTNBQ7A7V7UXW5JJI6UGRYQ  1580950175902             3   \n",
      "1  B08637FWWF  AEVWAM3YWN5URJVJIZZ6XPD2MKIA  1604354586880             3   \n",
      "2  B07KJVGNN5  AHSPLDNW5OOUK2PLH7GXLACFBZNQ  1563966838905             0   \n",
      "3  B092RP73CX  AEZGPLOYTSAPR3DHZKKXEFPAXUAA  1662258542725             7   \n",
      "4  B08KYJLF5T  AEQAYV7RXZEBXMQIQPL6KCT2CFWQ  1642722787262             0   \n",
      "\n",
      "   verified_purchase  \n",
      "0               True  \n",
      "1               True  \n",
      "2               True  \n",
      "3               True  \n",
      "4               True  \n"
     ]
    }
   ],
   "source": [
    "import pandas as pd\n",
    "\n",
    "# Load your data\n",
    "data = pd.read_csv('G:\\mosad hw\\web scrape\\Health_and_Personal_Care1.csv')\n",
    "\n",
    "# Print the head of the DataFrame\n",
    "print(data.head())\n",
    "\n"
   ]
  },
  {
   "cell_type": "code",
   "execution_count": 20,
   "metadata": {},
   "outputs": [],
   "source": [
    "data.drop(columns=['text', 'parent_asin','title','images','parent_asin','helpful_vote','timestamp','verified_purchase'], inplace=True)\n"
   ]
  },
  {
   "cell_type": "code",
   "execution_count": 21,
   "metadata": {},
   "outputs": [],
   "source": [
    "data.rename(columns={'asin': 'product_id'}, inplace=True)"
   ]
  },
  {
   "cell_type": "code",
   "execution_count": 23,
   "metadata": {},
   "outputs": [
    {
     "data": {
      "text/html": [
       "<div>\n",
       "<style scoped>\n",
       "    .dataframe tbody tr th:only-of-type {\n",
       "        vertical-align: middle;\n",
       "    }\n",
       "\n",
       "    .dataframe tbody tr th {\n",
       "        vertical-align: top;\n",
       "    }\n",
       "\n",
       "    .dataframe thead th {\n",
       "        text-align: right;\n",
       "    }\n",
       "</style>\n",
       "<table border=\"1\" class=\"dataframe\">\n",
       "  <thead>\n",
       "    <tr style=\"text-align: right;\">\n",
       "      <th></th>\n",
       "      <th>rating</th>\n",
       "      <th>product_id</th>\n",
       "      <th>user_id</th>\n",
       "    </tr>\n",
       "  </thead>\n",
       "  <tbody>\n",
       "    <tr>\n",
       "      <th>0</th>\n",
       "      <td>4.0</td>\n",
       "      <td>B07TDSJZMR</td>\n",
       "      <td>AFKZENTNBQ7A7V7UXW5JJI6UGRYQ</td>\n",
       "    </tr>\n",
       "    <tr>\n",
       "      <th>1</th>\n",
       "      <td>5.0</td>\n",
       "      <td>B08637FWWF</td>\n",
       "      <td>AEVWAM3YWN5URJVJIZZ6XPD2MKIA</td>\n",
       "    </tr>\n",
       "    <tr>\n",
       "      <th>2</th>\n",
       "      <td>5.0</td>\n",
       "      <td>B07KJVGNN5</td>\n",
       "      <td>AHSPLDNW5OOUK2PLH7GXLACFBZNQ</td>\n",
       "    </tr>\n",
       "    <tr>\n",
       "      <th>3</th>\n",
       "      <td>4.0</td>\n",
       "      <td>B007HY7GC2</td>\n",
       "      <td>AEZGPLOYTSAPR3DHZKKXEFPAXUAA</td>\n",
       "    </tr>\n",
       "    <tr>\n",
       "      <th>4</th>\n",
       "      <td>1.0</td>\n",
       "      <td>B08KYJLF5T</td>\n",
       "      <td>AEQAYV7RXZEBXMQIQPL6KCT2CFWQ</td>\n",
       "    </tr>\n",
       "  </tbody>\n",
       "</table>\n",
       "</div>"
      ],
      "text/plain": [
       "   rating  product_id                       user_id\n",
       "0     4.0  B07TDSJZMR  AFKZENTNBQ7A7V7UXW5JJI6UGRYQ\n",
       "1     5.0  B08637FWWF  AEVWAM3YWN5URJVJIZZ6XPD2MKIA\n",
       "2     5.0  B07KJVGNN5  AHSPLDNW5OOUK2PLH7GXLACFBZNQ\n",
       "3     4.0  B007HY7GC2  AEZGPLOYTSAPR3DHZKKXEFPAXUAA\n",
       "4     1.0  B08KYJLF5T  AEQAYV7RXZEBXMQIQPL6KCT2CFWQ"
      ]
     },
     "execution_count": 23,
     "metadata": {},
     "output_type": "execute_result"
    }
   ],
   "source": [
    "data.head()\n"
   ]
  },
  {
   "cell_type": "code",
   "execution_count": 24,
   "metadata": {},
   "outputs": [
    {
     "name": "stdout",
     "output_type": "stream",
     "text": [
      "DataFrame shape: (494121, 10)\n",
      "First few rows of the DataFrame:\n",
      "    rating                                              title  \\\n",
      "0     4.0  12 mg is 12 on the periodic table people! Mg f...   \n",
      "1     5.0                 Save the lanet using less plastic.   \n",
      "2     5.0                                          Fantastic   \n",
      "3     4.0  It holds the water and makes bubbles.  That's ...   \n",
      "4     1.0                                         Not for me   \n",
      "\n",
      "                                                text images        asin  \\\n",
      "0  This review is more to clarify someone else’s ...     []  B07TDSJZMR   \n",
      "1  Love these easy multitasking bleach tablets. B...     []  B08637FWWF   \n",
      "2  I have been suffering a couple months with hee...     []  B07KJVGNN5   \n",
      "3  It's cheap and it does what I wanted.  The \"ma...     []  B007HY7GC2   \n",
      "4  Didn't do a thing for me. Not saying they don'...     []  B08KYJLF5T   \n",
      "\n",
      "  parent_asin                       user_id      timestamp  helpful_vote  \\\n",
      "0  B07TDSJZMR  AFKZENTNBQ7A7V7UXW5JJI6UGRYQ  1580950175902             3   \n",
      "1  B08637FWWF  AEVWAM3YWN5URJVJIZZ6XPD2MKIA  1604354586880             3   \n",
      "2  B07KJVGNN5  AHSPLDNW5OOUK2PLH7GXLACFBZNQ  1563966838905             0   \n",
      "3  B092RP73CX  AEZGPLOYTSAPR3DHZKKXEFPAXUAA  1662258542725             7   \n",
      "4  B08KYJLF5T  AEQAYV7RXZEBXMQIQPL6KCT2CFWQ  1642722787262             0   \n",
      "\n",
      "   verified_purchase  \n",
      "0               True  \n",
      "1               True  \n",
      "2               True  \n",
      "3               True  \n",
      "4               True  \n",
      "Column names: Index(['rating', 'title', 'text', 'images', 'asin', 'parent_asin', 'user_id',\n",
      "       'timestamp', 'helpful_vote', 'verified_purchase'],\n",
      "      dtype='object')\n"
     ]
    }
   ],
   "source": [
    "import pandas as pd\n",
    "\n",
    "# Load your full dataset\n",
    "data = pd.read_csv('G:\\mosad hw\\web scrape\\Health_and_Personal_Care1.csv')\n",
    "\n",
    "# Check the shape of the DataFrame\n",
    "print(\"DataFrame shape:\", data.shape)\n",
    "\n",
    "# Display the first few rows and column names\n",
    "print(\"First few rows of the DataFrame:\\n\", data.head())\n",
    "print(\"Column names:\", data.columns)\n"
   ]
  },
  {
   "cell_type": "code",
   "execution_count": 25,
   "metadata": {},
   "outputs": [
    {
     "name": "stdout",
     "output_type": "stream",
     "text": [
      "Null counts in relevant columns:\n",
      " user_id    0\n",
      "asin       0\n",
      "rating     0\n",
      "dtype: int64\n"
     ]
    }
   ],
   "source": [
    "# Check for null values in the relevant columns\n",
    "null_counts = data[['user_id', 'asin', 'rating']].isnull().sum()\n",
    "print(\"Null counts in relevant columns:\\n\", null_counts)\n"
   ]
  },
  {
   "cell_type": "code",
   "execution_count": 41,
   "metadata": {},
   "outputs": [
    {
     "name": "stdout",
     "output_type": "stream",
     "text": [
      "DataFrame shape: (494121, 10)\n",
      "Original column names: Index(['rating', 'title', 'text', 'images', 'asin', 'parent_asin', 'user_id',\n",
      "       'timestamp', 'helpful_vote', 'verified_purchase'],\n",
      "      dtype='object')\n",
      "6x6 User-Item Matrix with Some Null Values:\n",
      "                              B0081X3QZO B00DAD9HNU B00MVQGD5C B0B6N5427V  \\\n",
      "AEGEKSQROFGRCKO2YCAJJE63IDHQ          3          3          1          3   \n",
      "AGPJAAAWGBO6VO7QARVMBW3GLJTQ        NaN          2          2          5   \n",
      "AGHX4KAHWONQSCXTFA2EVW4MBTCQ          3          2        NaN        NaN   \n",
      "AFVPRHRDDUVXI42BA7F2BYKGT2OQ          5          4        NaN          4   \n",
      "AHXC6PXTMNJ7VXB7SDC5M4XJLYNA        NaN          4          5          4   \n",
      "AHJA3OBBGALIORYKDJKKFRZOT24A        NaN          3          5          3   \n",
      "\n",
      "                             B0BB86S338 B07YJK788R  \n",
      "AEGEKSQROFGRCKO2YCAJJE63IDHQ        NaN          3  \n",
      "AGPJAAAWGBO6VO7QARVMBW3GLJTQ        NaN        NaN  \n",
      "AGHX4KAHWONQSCXTFA2EVW4MBTCQ        NaN          4  \n",
      "AFVPRHRDDUVXI42BA7F2BYKGT2OQ          2        NaN  \n",
      "AHXC6PXTMNJ7VXB7SDC5M4XJLYNA          4          3  \n",
      "AHJA3OBBGALIORYKDJKKFRZOT24A          3        NaN  \n"
     ]
    }
   ],
   "source": [
    "import pandas as pd\n",
    "import numpy as np\n",
    "\n",
    "# Load the CSV file\n",
    "data = pd.read_csv('G:\\\\mosad hw\\\\web scrape\\\\Health_and_Personal_Care1.csv')\n",
    "\n",
    "# Display the shape and original column names for verification\n",
    "print(\"DataFrame shape:\", data.shape)\n",
    "print(\"Original column names:\", data.columns)\n",
    "\n",
    "# Select the relevant columns and rename them for clarity\n",
    "data = data[['rating', 'user_id', 'asin']]\n",
    "\n",
    "# Check for unique users and items\n",
    "unique_users = data['user_id'].unique()\n",
    "unique_items = data['asin'].unique()\n",
    "\n",
    "# Ensure that there are enough unique users and items to sample from\n",
    "num_users = min(6, len(unique_users))  # Select up to 6 unique users\n",
    "num_items = min(6, len(unique_items))  # Select up to 6 unique items\n",
    "\n",
    "# Select random users and items from the dataset\n",
    "selected_users = np.random.choice(unique_users, size=num_users, replace=False)\n",
    "selected_items = np.random.choice(unique_items, size=num_items, replace=False)\n",
    "\n",
    "# Create an empty DataFrame for the user-item matrix\n",
    "user_item_matrix = pd.DataFrame(index=selected_users, columns=selected_items)\n",
    "\n",
    "# Randomly assign ratings to a few user-item pairs\n",
    "for user in selected_users:\n",
    "    for item in selected_items:\n",
    "        # Randomly decide to assign a rating or leave it as NaN\n",
    "        if np.random.rand() > 0.5:  # Adjust the probability as needed\n",
    "            user_item_matrix.loc[user, item] = np.random.randint(1, 6)  # Random rating between 1 and 5\n",
    "\n",
    "# Display the user-item matrix\n",
    "print(\"6x6 User-Item Matrix with Some Null Values:\\n\", user_item_matrix)\n"
   ]
  }
 ],
 "metadata": {
  "kernelspec": {
   "display_name": "Python 3",
   "language": "python",
   "name": "python3"
  },
  "language_info": {
   "codemirror_mode": {
    "name": "ipython",
    "version": 3
   },
   "file_extension": ".py",
   "mimetype": "text/x-python",
   "name": "python",
   "nbconvert_exporter": "python",
   "pygments_lexer": "ipython3",
   "version": "3.11.1"
  }
 },
 "nbformat": 4,
 "nbformat_minor": 2
}
